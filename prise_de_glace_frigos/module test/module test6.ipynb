{
 "cells": [
  {
   "cell_type": "code",
   "execution_count": 1,
   "metadata": {},
   "outputs": [],
   "source": [
    "import pandas as pd\n",
    "import matplotlib.pyplot as plt\n",
    "import numpy as np\n",
    "from scipy import stats\n",
    "import warnings"
   ]
  },
  {
   "cell_type": "code",
   "execution_count": 2,
   "metadata": {},
   "outputs": [],
   "source": [
    "warnings.simplefilter(action='ignore', category=FutureWarning)\n",
    "warnings.simplefilter(action='ignore', category=UserWarning)\n",
    "warnings.simplefilter(action='ignore', category=RuntimeWarning)"
   ]
  },
  {
   "cell_type": "code",
   "execution_count": 3,
   "metadata": {},
   "outputs": [],
   "source": [
    "def prise_de_glace(df, alert, pg, window_size, i):\n",
    "    \n",
    "    df[\"var_S03\"] = df[\"S03\"] - df[\"S03\"].shift(1)\n",
    "    df[\"var_S04\"] = df[\"S04\"] - df[\"S04\"].shift(1)\n",
    "    \n",
    "    def rolling_mediane(serie, window):\n",
    "        valeur = [serie.iloc[0]]\n",
    "        for i in range(1,len(serie)):\n",
    "            tableau = serie[max(0, i-window+1):i+1]\n",
    "            valeur.append(np.median(tableau))\n",
    "        return valeur\n",
    "\n",
    "    def rolling_moyenne(serie, window):\n",
    "        valeur = [serie.iloc[0]]\n",
    "        for i in range(1,len(serie)):\n",
    "            tableau = serie[max(0, i-window+1):i+1]\n",
    "            valeur.append(np.mean(tableau))\n",
    "        return valeur\n",
    "    \n",
    "    df[\"difference\"] = df[\"S03\"] - df[\"S04\"]\n",
    "    df[\"difference_future\"] = rolling_moyenne(df[\"difference\"], window_size)\n",
    "    df[\"var_S03_future\"] = rolling_moyenne(df[\"var_S03\"], window_size)\n",
    "    df[\"var_S03_future_expo\"] = np.exp(df[\"var_S03_future\"])\n",
    "    df[\"var_S04_future\"] = rolling_moyenne(df[\"var_S04\"], window_size)\n",
    "    df[\"var_S04_future_expo\"] = np.exp(df[\"var_S04_future\"])\n",
    "    df[\"taux_relatif\"] = df[\"var_S03_future_expo\"] / df[\"var_S04_future_expo\"]\n",
    "    df[\"taux_relatif_future\"] = rolling_moyenne(df[\"taux_relatif\"], window_size)\n",
    "    df[\"taux_relatif_difference_future\"] = df[\"taux_relatif_future\"]*df[\"difference_future\"]\n",
    "    \n",
    "    if i < window_size:\n",
    "        alert = False\n",
    "        df.iloc[-1, df.columns.get_loc('normale?')] = 1\n",
    "        return alert, df, pg\n",
    "    else:\n",
    "        normal_frame = df[df[\"normale?\"] == 1]\n",
    "        \n",
    "        start_index = 0\n",
    "        df1 = normal_frame.iloc[start_index:]\n",
    "        mean_median_rolling = df1[\"taux_relatif_difference_future\"].mean()\n",
    "        std_median_rolling = df1[\"taux_relatif_difference_future\"].std()\n",
    "        n = df1[\"taux_relatif_difference_future\"].count() \n",
    "        confidence_level = 0.99 # pourcentage d'erreur toléré\n",
    "        z_score = stats.norm.ppf((1 + confidence_level) / 2)\n",
    "        confidence_interval_lower = mean_median_rolling - z_score * std_median_rolling\n",
    "        confidence_interval_upper = mean_median_rolling + z_score * std_median_rolling\n",
    "        \n",
    "        if(df.iloc[-1, df.columns.get_loc('taux_relatif_difference_future')] < confidence_interval_lower or \n",
    "        df.iloc[-1, df.columns.get_loc('taux_relatif_difference_future')] > confidence_interval_upper):\n",
    "            if(df.iloc[-2, df.columns.get_loc('normale?')] == 1):\n",
    "                alert = True\n",
    "        else:\n",
    "            alert = False\n",
    "            df.iloc[-1, df.columns.get_loc('normale?')] = 1 \n",
    "            if(df.iloc[-2, df.columns.get_loc('normale?')] == 0):\n",
    "                print(\"fin de prise de glace le \", df.index[-1])\n",
    "                pg.iloc[-1, pg.columns.get_loc('fin')] = df.index[-1]\n",
    "        \n",
    "        return alert, df, pg"
   ]
  },
  {
   "cell_type": "code",
   "execution_count": 4,
   "metadata": {},
   "outputs": [],
   "source": [
    "file_path = 'dataset/Lec_Luneville_Mai2023-2024_30.csv'\n",
    "df = pd.read_csv(file_path, sep=';')\n",
    "df = df.set_index('date')\n",
    "df.index = pd.to_datetime(df.index, format='%d/%m/%Y %H:%M', errors='coerce')\n",
    "df.sort_values(by=['date'], inplace=True)\n",
    "df['S03'] = df['S03'].str.replace(',', '.')\n",
    "df['S04'] = df['S04'].str.replace(',', '.')\n",
    "df['S03'] = pd.to_numeric(df['S03'], errors='coerce')\n",
    "df['S04'] = pd.to_numeric(df['S04'], errors='coerce')\n",
    "df['S03'].fillna(df['S03'].median(), inplace=True)\n",
    "df['S04'].fillna(df['S04'].median(), inplace=True)"
   ]
  },
  {
   "cell_type": "code",
   "execution_count": 5,
   "metadata": {},
   "outputs": [
    {
     "name": "stdout",
     "output_type": "stream",
     "text": [
      "La  1 ième prise de glace a été détectée à la date  2023-06-26 09:20:00\n",
      "fin de prise de glace le  2023-06-26 12:30:00\n",
      "La  2 ième prise de glace a été détectée à la date  2023-06-30 03:40:00\n",
      "fin de prise de glace le  2023-07-03 06:25:00\n",
      "La  3 ième prise de glace a été détectée à la date  2023-07-06 17:20:00\n",
      "fin de prise de glace le  2023-07-07 04:20:00\n",
      "La  4 ième prise de glace a été détectée à la date  2023-07-23 12:55:00\n",
      "fin de prise de glace le  2023-08-19 02:25:00\n",
      "La  5 ième prise de glace a été détectée à la date  2023-08-20 04:30:00\n",
      "fin de prise de glace le  2023-08-20 12:20:00\n",
      "La  6 ième prise de glace a été détectée à la date  2023-08-20 20:25:00\n",
      "fin de prise de glace le  2023-08-23 17:05:00\n"
     ]
    }
   ],
   "source": [
    "alert = False\n",
    "window_size = 288\n",
    "serie6 = pd.DataFrame(columns=df.columns)\n",
    "pg6 = pd.DataFrame(columns=[\"numero\", \"debut\", \"fin\"])\n",
    "serie6['normale?'] = None\n",
    "serie6 = pd.concat([serie6, df.iloc[[1]]], ignore_index=False)\n",
    "serie6.loc[df.index[1], 'normale?'] = 1\n",
    "j = 0\n",
    "cumul_alert = False\n",
    "serie6.to_csv('serie6.csv', index=True)\n",
    "pg6.to_csv('pg6.csv', index=True)\n",
    "for i in range(2, len(df)):\n",
    "    if alert:\n",
    "        j += 1\n",
    "        print(\"La \", j, \"ième prise de glace a été détectée à la date \", serie6.index[-1])\n",
    "        new_row = pd.DataFrame([[j, serie6.index[-1], serie6.index[-1]]], columns=[\"numero\", \"debut\", \"fin\"])\n",
    "        pg6 = pd.concat([pg6, new_row], ignore_index=True)\n",
    "    serie6 = pd.concat([serie6, df.iloc[[i]]], ignore_index=False)\n",
    "    serie6.loc[df.index[i], 'normale?'] = 0\n",
    "    alert = False\n",
    "    alert, serie6, pg6 = prise_de_glace(serie6, alert, pg6, window_size, i)\n",
    "    #serie6.to_csv('serie6.csv', index=True)\n",
    "    cumul_alert = cumul_alert or alert\n",
    "pg6.to_csv('pg6.csv', index=True)\n",
    "\n",
    "if not cumul_alert:\n",
    "    print(\"Pas de prise de glace détectée\")\n",
    "else:\n",
    "    print(\"\\nFin de la détection de prise de glace\")\n"
   ]
  }
 ],
 "metadata": {
  "kernelspec": {
   "display_name": "base",
   "language": "python",
   "name": "python3"
  },
  "language_info": {
   "codemirror_mode": {
    "name": "ipython",
    "version": 3
   },
   "file_extension": ".py",
   "mimetype": "text/x-python",
   "name": "python",
   "nbconvert_exporter": "python",
   "pygments_lexer": "ipython3",
   "version": "3.11.7"
  }
 },
 "nbformat": 4,
 "nbformat_minor": 2
}
